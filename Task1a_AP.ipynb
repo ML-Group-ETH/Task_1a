{
 "cells": [
  {
   "cell_type": "markdown",
   "metadata": {},
   "source": [
    "### 1.) Importing relevant libraries"
   ]
  },
  {
   "cell_type": "code",
   "execution_count": 1,
   "metadata": {
    "collapsed": true
   },
   "outputs": [],
   "source": [
    "import pandas as pd\n",
    "import numpy as np\n",
    "from sklearn import linear_model\n",
    "from sklearn.metrics import mean_squared_error"
   ]
  },
  {
   "cell_type": "markdown",
   "metadata": {},
   "source": [
    "### 2.) Loading data files"
   ]
  },
  {
   "cell_type": "code",
   "execution_count": 2,
   "metadata": {
    "collapsed": false
   },
   "outputs": [],
   "source": [
    "trainData = pd.read_csv(\"train.csv\")"
   ]
  },
  {
   "cell_type": "markdown",
   "metadata": {},
   "source": [
    "### 3.) Creation of ridge regression model"
   ]
  },
  {
   "cell_type": "code",
   "execution_count": 3,
   "metadata": {
    "collapsed": false
   },
   "outputs": [],
   "source": [
    "reg1 = linear_model.Ridge(alpha=0.1)\n",
    "reg2 = linear_model.Ridge(alpha=1)\n",
    "reg3 = linear_model.Ridge(alpha=10)\n",
    "reg4 = linear_model.Ridge(alpha=100)\n",
    "reg5 = linear_model.Ridge(alpha=1000)"
   ]
  },
  {
   "cell_type": "markdown",
   "metadata": {},
   "source": [
    "### 4.) Model training"
   ]
  },
  {
   "cell_type": "code",
   "execution_count": 4,
   "metadata": {
    "collapsed": true
   },
   "outputs": [],
   "source": [
    "y_trainData = trainData[['y']]\n",
    "x_trainData = trainData[['x1','x2','x3','x4','x5','x6','x7','x8','x9','x10']]"
   ]
  },
  {
   "cell_type": "code",
   "execution_count": 5,
   "metadata": {
    "collapsed": false
   },
   "outputs": [],
   "source": [
    "y_trainData_list = [tuple(y) for y in y_trainData.values]\n",
    "x_trainData_list = [tuple(x) for x in x_trainData.values]\n",
    "\n",
    "length = len(y_trainData)/10\n",
    "#print(length)\n",
    "\n",
    "result1 = []\n",
    "result2 = []\n",
    "result3 = []\n",
    "result4 = []\n",
    "result5 = []\n",
    "\n",
    "for i in range (1, 11):\n",
    "    #print(i)\n",
    "    \n",
    "    y_trainData_list_red = []\n",
    "    x_trainData_list_red = []\n",
    "    \n",
    "    y_trainData_list_red[0:int((i-1)*length)] = y_trainData_list[0:int((i-1)*length)]\n",
    "    y_trainData_list_red[int((i-1)*length):int(9*length)] = y_trainData_list[int((i)*length):int(10*length)]\n",
    "    x_trainData_list_red[0:int((i-1)*length)] = x_trainData_list[0:int((i-1)*length)]\n",
    "    x_trainData_list_red[int((i-1)*length):int(9*length)] = x_trainData_list[int((i)*length):int(10*length)]\n",
    "    y_train_list = np.array(y_trainData_list_red)\n",
    "    x_train_list = np.array(x_trainData_list_red)\n",
    "    \n",
    "    reg1.fit(x_train_list,y_train_list)\n",
    "    reg2.fit(x_train_list,y_train_list)\n",
    "    reg3.fit(x_train_list,y_train_list)\n",
    "    reg4.fit(x_train_list,y_train_list)\n",
    "    reg5.fit(x_train_list,y_train_list)\n",
    "    \n",
    "    y_testData_list_red = y_trainData_list[int((i-1)*length):int((i)*length)]\n",
    "    x_testData_list_red = x_trainData_list[int((i-1)*length):int((i)*length)]\n",
    "    y_test_list = np.array(y_testData_list_red)\n",
    "    x_test_list = np.array(x_testData_list_red)\n",
    "    \n",
    "    pred1 = reg1.predict(x_test_list)\n",
    "    pred2 = reg2.predict(x_test_list)\n",
    "    pred3 = reg3.predict(x_test_list)\n",
    "    pred4 = reg4.predict(x_test_list)\n",
    "    pred5 = reg5.predict(x_test_list)\n",
    "    \n",
    "    RMSE_1 = mean_squared_error(y_test_list, pred1)**0.5\n",
    "    RMSE_2 = mean_squared_error(y_test_list, pred2)**0.5\n",
    "    RMSE_3 = mean_squared_error(y_test_list, pred3)**0.5\n",
    "    RMSE_4 = mean_squared_error(y_test_list, pred4)**0.5\n",
    "    RMSE_5 = mean_squared_error(y_test_list, pred5)**0.5\n",
    "    \n",
    "    result1.append(RMSE_1)\n",
    "    result2.append(RMSE_2)\n",
    "    result3.append(RMSE_3)\n",
    "    result4.append(RMSE_4)\n",
    "    result5.append(RMSE_5)\n",
    "    "
   ]
  },
  {
   "cell_type": "code",
   "execution_count": 6,
   "metadata": {
    "collapsed": false
   },
   "outputs": [
    {
     "name": "stdout",
     "output_type": "stream",
     "text": [
      "[1.0059384044355018, 1.0026002531474747, 1.0197494069484059, 2.5762847054276059, 21.894475155995867]\n"
     ]
    }
   ],
   "source": [
    "finalResult = []\n",
    "\n",
    "avgRMSE_1 = sum(result1)/len(result1)\n",
    "avgRMSE_2 = sum(result2)/len(result2)\n",
    "avgRMSE_3 = sum(result3)/len(result3)\n",
    "avgRMSE_4 = sum(result4)/len(result4)\n",
    "avgRMSE_5 = sum(result5)/len(result5)\n",
    "\n",
    "finalResult.append(avgRMSE_1)\n",
    "finalResult.append(avgRMSE_2)\n",
    "finalResult.append(avgRMSE_3)\n",
    "finalResult.append(avgRMSE_4)\n",
    "finalResult.append(avgRMSE_5)\n",
    "\n",
    "print(finalResult)"
   ]
  },
  {
   "cell_type": "markdown",
   "metadata": {},
   "source": [
    "### 5.) Data output"
   ]
  },
  {
   "cell_type": "code",
   "execution_count": 7,
   "metadata": {
    "collapsed": true
   },
   "outputs": [],
   "source": [
    "import csv\n",
    "\n",
    "res = finalResult\n",
    "csvfile = \"task_1A_RMSE_v1.csv\"\n",
    "\n",
    "#Assuming res is a flat list\n",
    "with open(csvfile, \"w\") as output:\n",
    "    writer = csv.writer(output, lineterminator='\\n')\n",
    "    for val in res:\n",
    "        writer.writerow([val])    \n"
   ]
  }
 ],
 "metadata": {
  "kernelspec": {
   "display_name": "Python 3",
   "language": "python",
   "name": "python3"
  },
  "language_info": {
   "codemirror_mode": {
    "name": "ipython",
    "version": 3
   },
   "file_extension": ".py",
   "mimetype": "text/x-python",
   "name": "python",
   "nbconvert_exporter": "python",
   "pygments_lexer": "ipython3",
   "version": "3.4.5"
  }
 },
 "nbformat": 4,
 "nbformat_minor": 0
}
